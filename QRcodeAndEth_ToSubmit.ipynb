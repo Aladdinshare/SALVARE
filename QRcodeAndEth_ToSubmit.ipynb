{
  "nbformat": 4,
  "nbformat_minor": 0,
  "metadata": {
    "colab": {
      "provenance": []
    },
    "kernelspec": {
      "display_name": "Python 3",
      "name": "python3"
    },
    "language_info": {
      "name": "python"
    }
  },
  "cells": [
    {
      "cell_type": "markdown",
      "source": [
        "# Install and import some modules\n",
        "\n"
      ],
      "metadata": {
        "id": "K6heVHCu-tAL"
      }
    },
    {
      "cell_type": "code",
      "source": [
        "# after installing, need to restart runtime for changes to take effect\n",
        "# the nbclient error may be ignored for the time being\n",
        "!pip install web3 > /dev/null"
      ],
      "metadata": {
        "id": "UJjJlys7rE2Q"
      },
      "execution_count": null,
      "outputs": []
    },
    {
      "cell_type": "code",
      "metadata": {
        "id": "8hzW2_qQ19cU"
      },
      "source": [
        "# 必要なライブラリのインストール\n",
        "!apt install libzbar0\n",
        "!pip install pyzbar"
      ],
      "execution_count": null,
      "outputs": []
    },
    {
      "cell_type": "code",
      "metadata": {
        "id": "VONPQPM9Rgki"
      },
      "source": [
        "# import dependencies\n",
        "from IPython.display import display, Javascript, Image\n",
        "from google.colab.output import eval_js\n",
        "from base64 import b64decode, b64encode\n",
        "import cv2\n",
        "import numpy as np\n",
        "import PIL\n",
        "import io\n",
        "import html\n",
        "import time\n",
        "import csv\n",
        "import datetime\n",
        "import json"
      ],
      "execution_count": null,
      "outputs": []
    },
    {
      "cell_type": "code",
      "metadata": {
        "id": "lYB8L0Ob2UDq"
      },
      "source": [
        "from pyzbar.pyzbar import decode\n",
        "\n",
        "#サポートパッチのインポート\n",
        "from google.colab.patches import cv2_imshow\n",
        "# cv2_imshow(image)"
      ],
      "execution_count": null,
      "outputs": []
    },
    {
      "cell_type": "code",
      "source": [
        "import time\n",
        "from web3 import Web3\n",
        "\n",
        "# You should fill out this network below.\n",
        "web3 = Web3(Web3.HTTPProvider(\"\"))"
      ],
      "metadata": {
        "id": "xEsvL5K-uOBZ"
      },
      "execution_count": null,
      "outputs": []
    },
    {
      "cell_type": "code",
      "metadata": {
        "id": "phJZ1gnRR3s5"
      },
      "source": [
        "# function to convert the JavaScript object into an OpenCV image\n",
        "def js_to_image(js_reply):\n",
        "  \"\"\"\n",
        "  Params:\n",
        "          js_reply: JavaScript object containing image from webcam\n",
        "  Returns:\n",
        "          img: OpenCV BGR image\n",
        "  \"\"\"\n",
        "  # decode base64 image\n",
        "  image_bytes = b64decode(js_reply.split(',')[1])\n",
        "  # convert bytes to numpy array\n",
        "  jpg_as_np = np.frombuffer(image_bytes, dtype=np.uint8)\n",
        "  # decode numpy array into OpenCV BGR image\n",
        "  img = cv2.imdecode(jpg_as_np, flags=1)\n",
        "\n",
        "  return img\n",
        "\n",
        "# function to convert OpenCV Rectangle bounding box image into base64 byte string to be overlayed on video stream\n",
        "def bbox_to_bytes(bbox_array):\n",
        "  \"\"\"\n",
        "  Params:\n",
        "          bbox_array: Numpy array (pixels) containing rectangle to overlay on video stream.\n",
        "  Returns:\n",
        "        bytes: Base64 image byte string\n",
        "  \"\"\"\n",
        "  # convert array into PIL image\n",
        "  bbox_PIL = PIL.Image.fromarray(bbox_array, 'RGBA')\n",
        "  iobuf = io.BytesIO()\n",
        "  # format bbox into png for return\n",
        "  bbox_PIL.save(iobuf, format='png')\n",
        "  # format return string\n",
        "  bbox_bytes = 'data:image/png;base64,{}'.format((str(b64encode(iobuf.getvalue()), 'utf-8')))\n",
        "\n",
        "  return bbox_bytes"
      ],
      "execution_count": null,
      "outputs": []
    },
    {
      "cell_type": "code",
      "metadata": {
        "id": "P6mer5gNRkGa"
      },
      "source": [
        "# JavaScript to properly create our live video stream using our webcam as input\n",
        "def video_stream():\n",
        "  js = Javascript('''\n",
        "    var video;\n",
        "    var div = null;\n",
        "    var stream;\n",
        "    var captureCanvas;\n",
        "    var imgElement;\n",
        "    var labelElement;\n",
        "\n",
        "    var pendingResolve = null;\n",
        "    var shutdown = false;\n",
        "\n",
        "    function removeDom() {\n",
        "       stream.getVideoTracks()[0].stop();\n",
        "       video.remove();\n",
        "       div.remove();\n",
        "       video = null;\n",
        "       div = null;\n",
        "       stream = null;\n",
        "       imgElement = null;\n",
        "       captureCanvas = null;\n",
        "       labelElement = null;\n",
        "    }\n",
        "\n",
        "    function onAnimationFrame() {\n",
        "      if (!shutdown) {\n",
        "        window.requestAnimationFrame(onAnimationFrame);\n",
        "      }\n",
        "      if (pendingResolve) {\n",
        "        var result = \"\";\n",
        "        if (!shutdown) {\n",
        "          captureCanvas.getContext('2d').drawImage(video, 0, 0, 640, 480);\n",
        "          result = captureCanvas.toDataURL('image/jpeg', 0.8)\n",
        "        }\n",
        "        var lp = pendingResolve;\n",
        "        pendingResolve = null;\n",
        "        lp(result);\n",
        "      }\n",
        "    }\n",
        "\n",
        "    async function createDom() {\n",
        "      if (div !== null) {\n",
        "        return stream;\n",
        "      }\n",
        "\n",
        "      div = document.createElement('div');\n",
        "      div.style.border = '2px solid black';\n",
        "      div.style.padding = '3px';\n",
        "      div.style.width = '100%';\n",
        "      div.style.maxWidth = '600px';\n",
        "      document.body.appendChild(div);\n",
        "\n",
        "      const modelOut = document.createElement('div');\n",
        "      modelOut.innerHTML = \"<span>Status:</span>\";\n",
        "      labelElement = document.createElement('span');\n",
        "      labelElement.innerText = 'No data';\n",
        "      labelElement.style.fontWeight = 'bold';\n",
        "      modelOut.appendChild(labelElement);\n",
        "      div.appendChild(modelOut);\n",
        "\n",
        "      video = document.createElement('video');\n",
        "      video.style.display = 'block';\n",
        "      video.width = div.clientWidth - 6;\n",
        "      video.setAttribute('playsinline', '');\n",
        "      video.onclick = () => { shutdown = true; };\n",
        "      stream = await navigator.mediaDevices.getUserMedia(\n",
        "          {video: { facingMode: \"environment\"}});\n",
        "      div.appendChild(video);\n",
        "\n",
        "      imgElement = document.createElement('img');\n",
        "      imgElement.style.position = 'absolute';\n",
        "      imgElement.style.zIndex = 1;\n",
        "      imgElement.onclick = () => { shutdown = true; };\n",
        "      div.appendChild(imgElement);\n",
        "\n",
        "      const instruction = document.createElement('div');\n",
        "      instruction.innerHTML =\n",
        "          '<span style=\"color: red; font-weight: bold;\">' +\n",
        "          'When finished, click here or on the video to stop this demo</span>';\n",
        "      div.appendChild(instruction);\n",
        "      instruction.onclick = () => { shutdown = true; };\n",
        "\n",
        "      video.srcObject = stream;\n",
        "      await video.play();\n",
        "\n",
        "      captureCanvas = document.createElement('canvas');\n",
        "      captureCanvas.width = 640; //video.videoWidth;\n",
        "      captureCanvas.height = 480; //video.videoHeight;\n",
        "      window.requestAnimationFrame(onAnimationFrame);\n",
        "\n",
        "      return stream;\n",
        "    }\n",
        "    async function stream_frame(label, imgData) {\n",
        "      if (shutdown) {\n",
        "        removeDom();\n",
        "        shutdown = false;\n",
        "        return '';\n",
        "      }\n",
        "\n",
        "      var preCreate = Date.now();\n",
        "      stream = await createDom();\n",
        "\n",
        "      var preShow = Date.now();\n",
        "      if (label != \"\") {\n",
        "        labelElement.innerHTML = label;\n",
        "      }\n",
        "\n",
        "      if (imgData != \"\") {\n",
        "        var videoRect = video.getClientRects()[0];\n",
        "        imgElement.style.top = videoRect.top + \"px\";\n",
        "        imgElement.style.left = videoRect.left + \"px\";\n",
        "        imgElement.style.width = videoRect.width + \"px\";\n",
        "        imgElement.style.height = videoRect.height + \"px\";\n",
        "        imgElement.src = imgData;\n",
        "      }\n",
        "\n",
        "      var preCapture = Date.now();\n",
        "      var result = await new Promise(function(resolve, reject) {\n",
        "        pendingResolve = resolve;\n",
        "      });\n",
        "      shutdown = false;\n",
        "\n",
        "      return {'create': preShow - preCreate,\n",
        "              'show': preCapture - preShow,\n",
        "              'capture': Date.now() - preCapture,\n",
        "              'img': result};\n",
        "    }\n",
        "    ''')\n",
        "\n",
        "  display(js)\n",
        "\n",
        "def video_frame(label, bbox):\n",
        "  data = eval_js('stream_frame(\"{}\", \"{}\")'.format(label, bbox))\n",
        "  return data"
      ],
      "execution_count": null,
      "outputs": []
    },
    {
      "cell_type": "code",
      "metadata": {
        "id": "CyaTFGCfqp_U"
      },
      "source": [
        "import math\n",
        "\n",
        "def contrast(image, a):\n",
        "    lut = [ np.uint8(255.0 / (1 + math.exp(-a * (i - 128.) / 255.))) for i in range(256)]\n",
        "    result_image = np.array( [ lut[value] for value in image.flat], dtype=np.uint8 )\n",
        "    result_image = result_image.reshape(image.shape)\n",
        "    return result_image"
      ],
      "execution_count": null,
      "outputs": []
    },
    {
      "cell_type": "markdown",
      "source": [
        "# Trash Can initialaization"
      ],
      "metadata": {
        "id": "xtLrsrnDdEB8"
      }
    },
    {
      "cell_type": "code",
      "source": [
        "# the contract address and the ABI value set in the next cell need to be changed when\n",
        "# the Solidity Code is changed and the conract is redeployed\n",
        "contract_address     = ''\n",
        "wallet_address = ''  # actual address obfuscated\n",
        "\n",
        "# the following data should not be made public under any circumstances when you working on the MainNET\n",
        "# as this can be used to withdraw valuable Ethers from the wallet mentioned above\n",
        "# here we make it public because the wallet is on a Test Chain (rinkbe) and the ether coins in the wallet have\n",
        "# have no financial value\n",
        "\n",
        "wallet_private_key = ''  # actual private_key obfuscated"
      ],
      "metadata": {
        "id": "gccDFYxHDne2"
      },
      "execution_count": null,
      "outputs": []
    },
    {
      "cell_type": "code",
      "source": [
        "#@title ABI value\n",
        "abi = json.loads('[{\"inputs\":[],\"stateMutability\":\"nonpayable\",\"type\":\"constructor\"},{\"anonymous\":false,\"inputs\":[{\"indexed\":true,\"internalType\":\"address\",\"name\":\"owner\",\"type\":\"address\"},{\"indexed\":true,\"internalType\":\"address\",\"name\":\"spender\",\"type\":\"address\"},{\"indexed\":false,\"internalType\":\"uint256\",\"name\":\"value\",\"type\":\"uint256\"}],\"name\":\"Approval\",\"type\":\"event\"},{\"anonymous\":false,\"inputs\":[{\"indexed\":true,\"internalType\":\"address\",\"name\":\"worker\",\"type\":\"address\"},{\"indexed\":true,\"internalType\":\"uint256\",\"name\":\"id\",\"type\":\"uint256\"}],\"name\":\"DoneWork\",\"type\":\"event\"},{\"anonymous\":false,\"inputs\":[{\"indexed\":true,\"internalType\":\"address\",\"name\":\"worker\",\"type\":\"address\"},{\"indexed\":true,\"internalType\":\"uint256\",\"name\":\"id\",\"type\":\"uint256\"}],\"name\":\"StartWork\",\"type\":\"event\"},{\"anonymous\":false,\"inputs\":[{\"indexed\":true,\"internalType\":\"address\",\"name\":\"from\",\"type\":\"address\"},{\"indexed\":true,\"internalType\":\"address\",\"name\":\"to\",\"type\":\"address\"},{\"indexed\":false,\"internalType\":\"uint256\",\"name\":\"value\",\"type\":\"uint256\"}],\"name\":\"Transfer\",\"type\":\"event\"},{\"inputs\":[{\"internalType\":\"address\",\"name\":\"owner\",\"type\":\"address\"},{\"internalType\":\"address\",\"name\":\"spender\",\"type\":\"address\"}],\"name\":\"allowance\",\"outputs\":[{\"internalType\":\"uint256\",\"name\":\"\",\"type\":\"uint256\"}],\"stateMutability\":\"view\",\"type\":\"function\"},{\"inputs\":[{\"internalType\":\"address\",\"name\":\"spender\",\"type\":\"address\"},{\"internalType\":\"uint256\",\"name\":\"amount\",\"type\":\"uint256\"}],\"name\":\"approve\",\"outputs\":[{\"internalType\":\"bool\",\"name\":\"\",\"type\":\"bool\"}],\"stateMutability\":\"nonpayable\",\"type\":\"function\"},{\"inputs\":[{\"internalType\":\"address\",\"name\":\"account\",\"type\":\"address\"}],\"name\":\"balanceOf\",\"outputs\":[{\"internalType\":\"uint256\",\"name\":\"\",\"type\":\"uint256\"}],\"stateMutability\":\"view\",\"type\":\"function\"},{\"inputs\":[],\"name\":\"decimals\",\"outputs\":[{\"internalType\":\"uint8\",\"name\":\"\",\"type\":\"uint8\"}],\"stateMutability\":\"view\",\"type\":\"function\"},{\"inputs\":[{\"internalType\":\"address\",\"name\":\"spender\",\"type\":\"address\"},{\"internalType\":\"uint256\",\"name\":\"subtractedValue\",\"type\":\"uint256\"}],\"name\":\"decreaseAllowance\",\"outputs\":[{\"internalType\":\"bool\",\"name\":\"\",\"type\":\"bool\"}],\"stateMutability\":\"nonpayable\",\"type\":\"function\"},{\"inputs\":[{\"internalType\":\"uint256\",\"name\":\"actualWeight\",\"type\":\"uint256\"},{\"internalType\":\"bytes32\",\"name\":\"messageHash\",\"type\":\"bytes32\"},{\"internalType\":\"bytes\",\"name\":\"signature\",\"type\":\"bytes\"}],\"name\":\"doneWork\",\"outputs\":[],\"stateMutability\":\"nonpayable\",\"type\":\"function\"},{\"inputs\":[],\"name\":\"getTrashCans\",\"outputs\":[{\"components\":[{\"internalType\":\"uint256\",\"name\":\"id\",\"type\":\"uint256\"},{\"internalType\":\"address\",\"name\":\"trashCanOwner\",\"type\":\"address\"},{\"internalType\":\"address\",\"name\":\"trashCan\",\"type\":\"address\"},{\"internalType\":\"string\",\"name\":\"trashCanLocationAddress\",\"type\":\"string\"},{\"internalType\":\"string\",\"name\":\"trashCanLocationImage\",\"type\":\"string\"},{\"internalType\":\"uint256\",\"name\":\"trashCanLatitude\",\"type\":\"uint256\"},{\"internalType\":\"uint256\",\"name\":\"trashCanLongitude\",\"type\":\"uint256\"},{\"internalType\":\"uint256\",\"name\":\"trashCanAmount\",\"type\":\"uint256\"},{\"internalType\":\"uint256\",\"name\":\"trashCanMaxAmount\",\"type\":\"uint256\"},{\"internalType\":\"uint256\",\"name\":\"trashCanReward\",\"type\":\"uint256\"},{\"components\":[{\"internalType\":\"uint256\",\"name\":\"id\",\"type\":\"uint256\"},{\"internalType\":\"string\",\"name\":\"recyclingCenterName\",\"type\":\"string\"},{\"internalType\":\"string\",\"name\":\"recyclingCenterLocationAddress\",\"type\":\"string\"},{\"internalType\":\"uint256\",\"name\":\"recyclingCenterLatitude\",\"type\":\"uint256\"},{\"internalType\":\"uint256\",\"name\":\"recyclingCenterLongitude\",\"type\":\"uint256\"}],\"internalType\":\"struct SALVARE.RecyclingCenter\",\"name\":\"recyclingCenter\",\"type\":\"tuple\"}],\"internalType\":\"struct SALVARE.TrashCan[]\",\"name\":\"\",\"type\":\"tuple[]\"}],\"stateMutability\":\"view\",\"type\":\"function\"},{\"inputs\":[{\"internalType\":\"address\",\"name\":\"target\",\"type\":\"address\"}],\"name\":\"getWork\",\"outputs\":[{\"components\":[{\"internalType\":\"uint256\",\"name\":\"id\",\"type\":\"uint256\"},{\"internalType\":\"uint256\",\"name\":\"gram\",\"type\":\"uint256\"}],\"internalType\":\"struct SALVARE.Work\",\"name\":\"\",\"type\":\"tuple\"}],\"stateMutability\":\"view\",\"type\":\"function\"},{\"inputs\":[{\"internalType\":\"address\",\"name\":\"spender\",\"type\":\"address\"},{\"internalType\":\"uint256\",\"name\":\"addedValue\",\"type\":\"uint256\"}],\"name\":\"increaseAllowance\",\"outputs\":[{\"internalType\":\"bool\",\"name\":\"\",\"type\":\"bool\"}],\"stateMutability\":\"nonpayable\",\"type\":\"function\"},{\"inputs\":[{\"internalType\":\"address\",\"name\":\"worker\",\"type\":\"address\"}],\"name\":\"isWorking\",\"outputs\":[{\"components\":[{\"internalType\":\"uint256\",\"name\":\"id\",\"type\":\"uint256\"},{\"internalType\":\"uint256\",\"name\":\"gram\",\"type\":\"uint256\"}],\"internalType\":\"struct SALVARE.Work\",\"name\":\"\",\"type\":\"tuple\"}],\"stateMutability\":\"view\",\"type\":\"function\"},{\"inputs\":[],\"name\":\"name\",\"outputs\":[{\"internalType\":\"string\",\"name\":\"\",\"type\":\"string\"}],\"stateMutability\":\"view\",\"type\":\"function\"},{\"inputs\":[{\"internalType\":\"address\",\"name\":\"\",\"type\":\"address\"}],\"name\":\"requesterBalances\",\"outputs\":[{\"internalType\":\"uint256\",\"name\":\"\",\"type\":\"uint256\"}],\"stateMutability\":\"view\",\"type\":\"function\"},{\"inputs\":[{\"internalType\":\"uint256\",\"name\":\"_newAmount\",\"type\":\"uint256\"},{\"internalType\":\"uint256\",\"name\":\"id\",\"type\":\"uint256\"}],\"name\":\"setAmountOfTrash\",\"outputs\":[],\"stateMutability\":\"nonpayable\",\"type\":\"function\"},{\"inputs\":[{\"internalType\":\"uint256\",\"name\":\"trashWeight\",\"type\":\"uint256\"},{\"internalType\":\"bytes32\",\"name\":\"messageHash\",\"type\":\"bytes32\"},{\"internalType\":\"bytes\",\"name\":\"signature\",\"type\":\"bytes\"},{\"internalType\":\"uint256\",\"name\":\"id\",\"type\":\"uint256\"}],\"name\":\"startWork\",\"outputs\":[],\"stateMutability\":\"nonpayable\",\"type\":\"function\"},{\"inputs\":[],\"name\":\"symbol\",\"outputs\":[{\"internalType\":\"string\",\"name\":\"\",\"type\":\"string\"}],\"stateMutability\":\"view\",\"type\":\"function\"},{\"inputs\":[],\"name\":\"totalSupply\",\"outputs\":[{\"internalType\":\"uint256\",\"name\":\"\",\"type\":\"uint256\"}],\"stateMutability\":\"view\",\"type\":\"function\"},{\"inputs\":[{\"internalType\":\"address\",\"name\":\"to\",\"type\":\"address\"},{\"internalType\":\"uint256\",\"name\":\"amount\",\"type\":\"uint256\"}],\"name\":\"transfer\",\"outputs\":[{\"internalType\":\"bool\",\"name\":\"\",\"type\":\"bool\"}],\"stateMutability\":\"nonpayable\",\"type\":\"function\"},{\"inputs\":[{\"internalType\":\"address\",\"name\":\"from\",\"type\":\"address\"},{\"internalType\":\"address\",\"name\":\"to\",\"type\":\"address\"},{\"internalType\":\"uint256\",\"name\":\"amount\",\"type\":\"uint256\"}],\"name\":\"transferFrom\",\"outputs\":[{\"internalType\":\"bool\",\"name\":\"\",\"type\":\"bool\"}],\"stateMutability\":\"nonpayable\",\"type\":\"function\"},{\"inputs\":[{\"internalType\":\"bytes32\",\"name\":\"messageHash\",\"type\":\"bytes32\"},{\"internalType\":\"bytes\",\"name\":\"signature\",\"type\":\"bytes\"}],\"name\":\"verifySignature\",\"outputs\":[{\"internalType\":\"address\",\"name\":\"\",\"type\":\"address\"}],\"stateMutability\":\"pure\",\"type\":\"function\"},{\"inputs\":[{\"internalType\":\"address\",\"name\":\"\",\"type\":\"address\"}],\"name\":\"workerToWork\",\"outputs\":[{\"internalType\":\"uint256\",\"name\":\"id\",\"type\":\"uint256\"},{\"internalType\":\"uint256\",\"name\":\"gram\",\"type\":\"uint256\"}],\"stateMutability\":\"view\",\"type\":\"function\"}]')"
      ],
      "metadata": {
        "id": "nhK2QtRSIRld"
      },
      "execution_count": null,
      "outputs": []
    },
    {
      "cell_type": "code",
      "source": [
        "contract = web3.eth.contract(address = contract_address, abi = abi)"
      ],
      "metadata": {
        "id": "8xzO3VoVFVwp"
      },
      "execution_count": null,
      "outputs": []
    },
    {
      "cell_type": "code",
      "source": [],
      "metadata": {
        "id": "iVf9LyXndNe8"
      },
      "execution_count": null,
      "outputs": []
    },
    {
      "cell_type": "markdown",
      "source": [
        "# a someone's Wallet Blance"
      ],
      "metadata": {
        "id": "-UgPFSkZY-8H"
      }
    },
    {
      "cell_type": "code",
      "source": [
        "# you can make sure your total balance\n",
        "contract.functions.balanceOf(\"\").call()"
      ],
      "metadata": {
        "id": "KGSp0izIFVuY"
      },
      "execution_count": null,
      "outputs": []
    },
    {
      "cell_type": "code",
      "source": [
        "contract.functions.balanceOf(\"\").call()"
      ],
      "metadata": {
        "colab": {
          "base_uri": "https://localhost:8080/"
        },
        "id": "Z7g47sHz1Ep2",
        "outputId": "7ef56e36-fa34-45b9-a239-3e5a9b6f0471"
      },
      "execution_count": null,
      "outputs": [
        {
          "output_type": "execute_result",
          "data": {
            "text/plain": [
              "47000000000000000000000"
            ]
          },
          "metadata": {},
          "execution_count": 77
        }
      ]
    },
    {
      "cell_type": "markdown",
      "source": [
        "# QR code reader at once"
      ],
      "metadata": {
        "id": "-YoBF3aXqe3y"
      }
    },
    {
      "cell_type": "code",
      "source": [
        "# start streaming video from webcam\n",
        "video_stream()\n",
        "# label for video\n",
        "label_html = 'Capturing...'\n",
        "# initialize bounding box to empty\n",
        "bbox = ''\n",
        "count = 0\n",
        "data_pre = []  # 読んだバーコードの履歴\n",
        "pre_bar = ''\n",
        "\n",
        "BarcodeResultFile = 'Barcode_reader_result.csv'\n",
        "\n",
        "dt_now = datetime.datetime.now()\n",
        "with open(BarcodeResultFile, 'a') as f:\n",
        "    writer = csv.writer(f, lineterminator='\\n')  # 改行コード指定\n",
        "    writer.writerow(['Barcode start: ' + str(dt_now)])\n",
        "\n",
        "# Flag variable\n",
        "barcode_found = False\n",
        "\n",
        "while True:\n",
        "    # 処理時間測定用 1 of 2\n",
        "    start_time = time.time()\n",
        "\n",
        "    # print('I am before video_frame')\n",
        "    js_reply = video_frame(label_html, bbox)\n",
        "    # print('I am after video_frame')\n",
        "    if not js_reply:\n",
        "        break\n",
        "\n",
        "    # convert JS response to OpenCV Image\n",
        "    img = js_to_image(js_reply[\"img\"])\n",
        "\n",
        "    # create transparent overlay for bounding box\n",
        "    bbox_array = np.zeros([480, 640, 4], dtype=np.uint8)\n",
        "\n",
        "    # GrayScale\n",
        "    imageGlay = cv2.cvtColor(img, cv2.COLOR_BGR2GRAY)\n",
        "    img = contrast(imageGlay, 5)\n",
        "\n",
        "    data = decode(img)\n",
        "\n",
        "    # コード内容を出力\n",
        "    for lc in range(len(data)):\n",
        "        count = 0\n",
        "        # Barcodeの枠を描画する\n",
        "        pts = np.array([data[lc].polygon], np.int32)\n",
        "        pts = pts.reshape((-1, 1, 2))\n",
        "        cv2.polylines(bbox_array, [pts], True, (0, 0, 255), 5)\n",
        "\n",
        "        # Barcodeのデータを処理する\n",
        "        barcode_data = data[lc][0].decode('utf-8', 'ignore')\n",
        "        # print(barcode_data, \"Barcord Data\")\n",
        "\n",
        "        # Barcodeのデータを描画する\n",
        "        bbox_array = cv2.putText(bbox_array, barcode_data, (50, 50 + lc * 70), cv2.FONT_HERSHEY_SIMPLEX, 0.8,\n",
        "                                 (255, 0, 0), 2)\n",
        "\n",
        "        result = barcode_data not in data_pre\n",
        "        if result:\n",
        "            pre_bar = barcode_data\n",
        "            data_pre.append(barcode_data)\n",
        "\n",
        "            with open(BarcodeResultFile, 'a') as f:\n",
        "                writer = csv.writer(f, lineterminator='\\n')\n",
        "                writer.writerow([barcode_data])\n",
        "                # writer.writerow([[barcode_data]])\n",
        "\n",
        "            # Set the flag to True and break the loop\n",
        "            barcode_found = True\n",
        "            break\n",
        "        else:\n",
        "            if barcode_data == pre_bar:\n",
        "                bbox_array = cv2.putText(bbox_array, 'OK! Bring next barcode', (150, 240),\n",
        "                                         cv2.FONT_HERSHEY_SIMPLEX, 1.0, (255, 0, 0), 3)\n",
        "            else:\n",
        "                bbox_array = cv2.putText(bbox_array, 'Duplicate. Read already', (200, 80 + lc * 70),\n",
        "                                         cv2.FONT_HERSHEY_SIMPLEX, 1.0, (255, 0, 0), 3)\n",
        "\n",
        "    # 処理時間の表示 2 of 2\n",
        "    pro_time = time.time() - start_time\n",
        "    time_lc = ' : processing time: {0:.2f}'.format(pro_time)\n",
        "    bbox_array = cv2.putText(bbox_array, str(count) + time_lc, (50, 430), cv2.FONT_HERSHEY_SIMPLEX, 0.8,\n",
        "                             (255, 0, 0), 2)\n",
        "    count += 1\n",
        "\n",
        "    bbox_array[:, :, 3] = (bbox_array.max(axis=2) > 0).astype(int) * 255\n",
        "    # convert overlay of bbox into bytes\n",
        "    bbox_bytes = bbox_to_bytes(bbox_array)\n",
        "\n",
        "    # update bbox so next frame gets new overlay\n",
        "    bbox = bbox_bytes\n",
        "\n",
        "    # Check the flag to exit the loop\n",
        "    if barcode_found:\n",
        "        break\n"
      ],
      "metadata": {
        "id": "lcBrpW4LmJIn"
      },
      "execution_count": null,
      "outputs": []
    },
    {
      "cell_type": "code",
      "source": [
        "parsed_data = json.loads(barcode_data)\n",
        "trashCan_id = parsed_data[\"id\"]\n",
        "message_hash = parsed_data[\"messageHash\"]\n",
        "signature = parsed_data[\"signature\"]\n",
        "\n",
        "print(\"trashCan_id =\", trashCan_id)\n",
        "print(\"messageHash =\", message_hash)\n",
        "print(\"signature =\", signature)"
      ],
      "metadata": {
        "id": "DRFHiv00az3W"
      },
      "execution_count": null,
      "outputs": []
    },
    {
      "cell_type": "markdown",
      "source": [
        "# How much do you want to carry trash?"
      ],
      "metadata": {
        "id": "0h6fer3jeIwj"
      }
    },
    {
      "cell_type": "code",
      "source": [
        "trash_amount = 7000"
      ],
      "metadata": {
        "id": "ybpCdyfyeIGu"
      },
      "execution_count": null,
      "outputs": []
    },
    {
      "cell_type": "markdown",
      "source": [
        "# StartWork"
      ],
      "metadata": {
        "id": "AEVf87QeYE10"
      }
    },
    {
      "cell_type": "code",
      "source": [
        "# Manually build and sign a transaction:\n",
        "unsent_contract_tx = contract.functions.startWork( trash_amount, message_hash, signature, int(trashCan_id)).build_transaction({\n",
        "    \"from\": wallet_address,\n",
        "    \"nonce\": web3.eth.get_transaction_count(wallet_address),\n",
        "    'gas': 400000,\n",
        "    'gasPrice': web3.to_wei('40', 'gwei'),\n",
        "})\n",
        "signed_tx = web3.eth.account.sign_transaction(unsent_contract_tx, private_key=wallet_private_key)\n",
        "\n",
        "tx_hash = web3.eth.send_raw_transaction(signed_tx.rawTransaction)\n",
        "web3.eth.wait_for_transaction_receipt(tx_hash)"
      ],
      "metadata": {
        "id": "Bal7_EXzMMfv"
      },
      "execution_count": null,
      "outputs": []
    },
    {
      "cell_type": "code",
      "source": [],
      "metadata": {
        "id": "8P6100_Te8ux"
      },
      "execution_count": null,
      "outputs": []
    },
    {
      "cell_type": "code",
      "source": [],
      "metadata": {
        "id": "xccrR7y6Byjg"
      },
      "execution_count": null,
      "outputs": []
    },
    {
      "cell_type": "code",
      "source": [],
      "metadata": {
        "id": "ljnT-ZoWByf7"
      },
      "execution_count": null,
      "outputs": []
    },
    {
      "cell_type": "code",
      "source": [],
      "metadata": {
        "id": "0ofAFsA6xwgi"
      },
      "execution_count": null,
      "outputs": []
    },
    {
      "cell_type": "markdown",
      "source": [
        "# QR code reader at once"
      ],
      "metadata": {
        "id": "3OjXE7JqxxiA"
      }
    },
    {
      "cell_type": "code",
      "source": [
        "# start streaming video from webcam\n",
        "video_stream()\n",
        "# label for video\n",
        "label_html = 'Capturing...'\n",
        "# initialize bounding box to empty\n",
        "bbox = ''\n",
        "count = 0\n",
        "data_pre = []  # 読んだバーコードの履歴\n",
        "pre_bar = ''\n",
        "\n",
        "BarcodeResultFile = 'Barcode_reader_result.csv'\n",
        "\n",
        "dt_now = datetime.datetime.now()\n",
        "with open(BarcodeResultFile, 'a') as f:\n",
        "    writer = csv.writer(f, lineterminator='\\n')  # 改行コード指定\n",
        "    writer.writerow(['Barcode start: ' + str(dt_now)])\n",
        "\n",
        "# Flag variable\n",
        "barcode_found = False\n",
        "\n",
        "while True:\n",
        "    # 処理時間測定用 1 of 2\n",
        "    start_time = time.time()\n",
        "\n",
        "    # print('I am before video_frame')\n",
        "    js_reply = video_frame(label_html, bbox)\n",
        "    # print('I am after video_frame')\n",
        "    if not js_reply:\n",
        "        break\n",
        "\n",
        "    # convert JS response to OpenCV Image\n",
        "    img = js_to_image(js_reply[\"img\"])\n",
        "\n",
        "    # create transparent overlay for bounding box\n",
        "    bbox_array = np.zeros([480, 640, 4], dtype=np.uint8)\n",
        "\n",
        "    # GrayScale\n",
        "    imageGlay = cv2.cvtColor(img, cv2.COLOR_BGR2GRAY)\n",
        "    img = contrast(imageGlay, 5)\n",
        "\n",
        "    data = decode(img)\n",
        "\n",
        "    # コード内容を出力\n",
        "    for lc in range(len(data)):\n",
        "        count = 0\n",
        "        # Barcodeの枠を描画する\n",
        "        pts = np.array([data[lc].polygon], np.int32)\n",
        "        pts = pts.reshape((-1, 1, 2))\n",
        "        cv2.polylines(bbox_array, [pts], True, (0, 0, 255), 5)\n",
        "\n",
        "        # Barcodeのデータを処理する\n",
        "        barcode_data = data[lc][0].decode('utf-8', 'ignore')\n",
        "        # print(barcode_data, \"Barcord Data\")\n",
        "\n",
        "        # Barcodeのデータを描画する\n",
        "        bbox_array = cv2.putText(bbox_array, barcode_data, (50, 50 + lc * 70), cv2.FONT_HERSHEY_SIMPLEX, 0.8,\n",
        "                                 (255, 0, 0), 2)\n",
        "\n",
        "        result = barcode_data not in data_pre\n",
        "        if result:\n",
        "            pre_bar = barcode_data\n",
        "            data_pre.append(barcode_data)\n",
        "\n",
        "            with open(BarcodeResultFile, 'a') as f:\n",
        "                writer = csv.writer(f, lineterminator='\\n')\n",
        "                writer.writerow([barcode_data])\n",
        "                # writer.writerow([[barcode_data]])\n",
        "\n",
        "            # Set the flag to True and break the loop\n",
        "            barcode_found = True\n",
        "            break\n",
        "        else:\n",
        "            if barcode_data == pre_bar:\n",
        "                bbox_array = cv2.putText(bbox_array, 'OK! Bring next barcode', (150, 240),\n",
        "                                         cv2.FONT_HERSHEY_SIMPLEX, 1.0, (255, 0, 0), 3)\n",
        "            else:\n",
        "                bbox_array = cv2.putText(bbox_array, 'Duplicate. Read already', (200, 80 + lc * 70),\n",
        "                                         cv2.FONT_HERSHEY_SIMPLEX, 1.0, (255, 0, 0), 3)\n",
        "\n",
        "    # 処理時間の表示 2 of 2\n",
        "    pro_time = time.time() - start_time\n",
        "    time_lc = ' : processing time: {0:.2f}'.format(pro_time)\n",
        "    bbox_array = cv2.putText(bbox_array, str(count) + time_lc, (50, 430), cv2.FONT_HERSHEY_SIMPLEX, 0.8,\n",
        "                             (255, 0, 0), 2)\n",
        "    count += 1\n",
        "\n",
        "    bbox_array[:, :, 3] = (bbox_array.max(axis=2) > 0).astype(int) * 255\n",
        "    # convert overlay of bbox into bytes\n",
        "    bbox_bytes = bbox_to_bytes(bbox_array)\n",
        "\n",
        "    # update bbox so next frame gets new overlay\n",
        "    bbox = bbox_bytes\n",
        "\n",
        "    # Check the flag to exit the loop\n",
        "    if barcode_found:\n",
        "        break\n"
      ],
      "metadata": {
        "id": "W8emQGpExxiB"
      },
      "execution_count": null,
      "outputs": []
    },
    {
      "cell_type": "code",
      "source": [
        "parsed_data = json.loads(barcode_data)\n",
        "trashCan_id = parsed_data[\"id\"]\n",
        "message_hash = parsed_data[\"messageHash\"]\n",
        "signature = parsed_data[\"signature\"]\n",
        "\n",
        "print(\"trashCan_id =\", trashCan_id)\n",
        "print(\"messageHash =\", message_hash)\n",
        "print(\"signature =\", signature)"
      ],
      "metadata": {
        "id": "Igdz0kDvxxiB"
      },
      "execution_count": null,
      "outputs": []
    },
    {
      "cell_type": "markdown",
      "source": [
        "# DoneWork"
      ],
      "metadata": {
        "id": "3R-kiOm6YLq_"
      }
    },
    {
      "cell_type": "code",
      "source": [
        "# Manually build and sign a transaction:\n",
        "unsent_contract_tx = contract.functions.doneWork(trash_amount, message_hash, signature).build_transaction({\n",
        "    \"from\": wallet_address,\n",
        "    \"nonce\": web3.eth.get_transaction_count(wallet_address),\n",
        "    'gas': 400000,\n",
        "    'gasPrice': web3.to_wei('40', 'gwei'),\n",
        "})\n",
        "signed_tx = web3.eth.account.sign_transaction(unsent_contract_tx, private_key=wallet_private_key)\n",
        "\n",
        "tx_hash = web3.eth.send_raw_transaction(signed_tx.rawTransaction)\n",
        "web3.eth.wait_for_transaction_receipt(tx_hash)\n"
      ],
      "metadata": {
        "id": "oAHpzHe9O6-s"
      },
      "execution_count": null,
      "outputs": []
    },
    {
      "cell_type": "code",
      "source": [],
      "metadata": {
        "id": "gVfYs-Aypac1"
      },
      "execution_count": null,
      "outputs": []
    },
    {
      "cell_type": "markdown",
      "source": [
        "# setAmountOfTrash\n"
      ],
      "metadata": {
        "id": "Zy_Bl7h2n3_X"
      }
    },
    {
      "cell_type": "code",
      "source": [
        "# Reference the deployed contract:\n",
        "\n",
        "# Manually build and sign a transaction:\n",
        "unsent_contract_tx = contract.functions.setAmountOfTrash(10000, 5).build_transaction({\n",
        "    \"from\": wallet_address,\n",
        "    \"nonce\": web3.eth.get_transaction_count(wallet_address),\n",
        "    'gas': 400000,\n",
        "    'gasPrice': web3.to_wei('40', 'gwei'),\n",
        "})\n",
        "signed_tx = web3.eth.account.sign_transaction(unsent_contract_tx, private_key=wallet_private_key)\n",
        "tx_hash = web3.eth.send_raw_transaction(signed_tx.rawTransaction)\n",
        "web3.eth.wait_for_transaction_receipt(tx_hash)"
      ],
      "metadata": {
        "id": "QTbN9UZZRhHR"
      },
      "execution_count": null,
      "outputs": []
    },
    {
      "cell_type": "code",
      "source": [
        "# Send the raw transaction:\n",
        "# assert billboard.functions.message().call() == \"gm\"\n",
        "# tx_hash = web3.eth.send_raw_transaction(signed_tx.rawTransaction)\n",
        "# web3.eth.wait_for_transaction_receipt(tx_hash)\n",
        "# assert billboard.functions.message().call() == \"gn\""
      ],
      "metadata": {
        "id": "4i7sLYetT0ly"
      },
      "execution_count": null,
      "outputs": []
    },
    {
      "cell_type": "code",
      "source": [],
      "metadata": {
        "id": "j0_XjmzrVYm3"
      },
      "execution_count": null,
      "outputs": []
    },
    {
      "cell_type": "markdown",
      "source": [
        "# QR code reader(non stop)"
      ],
      "metadata": {
        "id": "9TsNfey4chws"
      }
    },
    {
      "cell_type": "code",
      "metadata": {
        "id": "P5koIwwk19Km"
      },
      "source": [
        "# start streaming video from webcam\n",
        "video_stream()\n",
        "# label for video\n",
        "label_html = 'Capturing...'\n",
        "# initialze bounding box to empty\n",
        "bbox = ''\n",
        "count = 0\n",
        "data_pre =[] # 読んだバーコードの履歴\n",
        "pre_bar = ''\n",
        "\n",
        "BarcodeResultFile = 'Barcode_reader_result.csv'\n",
        "\n",
        "dt_now = datetime.datetime.now()\n",
        "with open(BarcodeResultFile, 'a') as f:\n",
        "    writer = csv.writer(f, lineterminator='\\n') # 改行コード指定\n",
        "    writer.writerow(['Barcode start : '+str(dt_now)])\n",
        "\n",
        "while True:\n",
        "    # 処理時間測定用 1 of 2\n",
        "    start_time = time.time()\n",
        "\n",
        "    # print('I am before video_frame')\n",
        "    js_reply = video_frame(label_html, bbox)\n",
        "    # print('I am after video_frame')\n",
        "    if not js_reply:\n",
        "        break\n",
        "\n",
        "    # convert JS response to OpenCV Image\n",
        "    img = js_to_image(js_reply[\"img\"])\n",
        "\n",
        "    # create transparent overlay for bounding box\n",
        "    bbox_array = np.zeros([480,640,4], dtype=np.uint8)\n",
        "\n",
        "    # GrayScale\n",
        "    imageGlay = cv2.cvtColor(img, cv2.COLOR_BGR2GRAY)\n",
        "    img = contrast(imageGlay, 5)\n",
        "\n",
        "    data = decode(img)\n",
        "\n",
        "    # コード内容を出力\n",
        "    for lc in range(len(data)):\n",
        "        count = 0\n",
        "        # Barcodeの枠を描画する\n",
        "        pts = np.array([data[lc].polygon],np.int32)\n",
        "        pts = pts.reshape((-1,1,2))\n",
        "        cv2.polylines(bbox_array,[pts],True,(0,0,255),5)\n",
        "\n",
        "        # Barcodeのデータを処理する\n",
        "        barcode_data = data[lc][0].decode('utf-8', 'ignore')\n",
        "        # print(barcode_data, \"Barcord Data\")\n",
        "\n",
        "        # Barcodeのデータを描画する\n",
        "        bbox_array = cv2.putText(bbox_array,barcode_data,(50,50+lc*70),cv2.FONT_HERSHEY_SIMPLEX,0.8,(255,0,0),2)\n",
        "\n",
        "        result = barcode_data not in data_pre\n",
        "        if ( result ):\n",
        "            pre_bar = barcode_data\n",
        "            data_pre.append(barcode_data)\n",
        "\n",
        "            with open(BarcodeResultFile, 'a') as f:\n",
        "                writer = csv.writer(f, lineterminator='\\n')\n",
        "                writer.writerow([barcode_data])\n",
        "                # writer.writerow([[barcode_data]])\n",
        "\n",
        "        else:\n",
        "            if barcode_data == pre_bar:\n",
        "                bbox_array = cv2.putText(bbox_array,'OK! Bring next barcode',(150,240),cv2.FONT_HERSHEY_SIMPLEX,1.0,(255,0,0),3)\n",
        "\n",
        "            else:\n",
        "                bbox_array = cv2.putText(bbox_array,'Duplicate. Read alredy',(200,80+lc*70),cv2.FONT_HERSHEY_SIMPLEX,1.0,(255,0,0),3)\n",
        "\n",
        "    # 処理時間の表示 2 of 2\n",
        "    pro_time = time.time() - start_time\n",
        "    time_lc = ' : processing time: {0:.2f}'.format(pro_time)\n",
        "    bbox_array = cv2.putText(bbox_array,str(count)+time_lc,(50,430),cv2.FONT_HERSHEY_SIMPLEX,0.8,(255,0,0),2)\n",
        "    count += 1\n",
        "\n",
        "    bbox_array[:,:,3] = (bbox_array.max(axis = 2) > 0 ).astype(int) * 255\n",
        "    # convert overlay of bbox into bytes\n",
        "    bbox_bytes = bbox_to_bytes(bbox_array)\n",
        "\n",
        "    # update bbox so next frame gets new overlay\n",
        "    bbox = bbox_bytes\n",
        "\n"
      ],
      "execution_count": null,
      "outputs": []
    },
    {
      "cell_type": "code",
      "source": [
        "parsed_data = json.loads(barcode_data)\n",
        "trashCan_id = parsed_data[\"id\"]\n",
        "message_hash = parsed_data[\"messageHash\"]\n",
        "signature = parsed_data[\"signature\"]\n",
        "\n",
        "print(\"trashCan_id =\", trashCan_id)\n",
        "print(\"messageHash =\", message_hash)\n",
        "print(\"signature =\", signature)"
      ],
      "metadata": {
        "id": "R9yWpp5xq0Zk"
      },
      "execution_count": null,
      "outputs": []
    }
  ]
}